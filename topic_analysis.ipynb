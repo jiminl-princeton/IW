{
  "nbformat": 4,
  "nbformat_minor": 0,
  "metadata": {
    "colab": {
      "provenance": []
    },
    "kernelspec": {
      "name": "python3",
      "display_name": "Python 3"
    },
    "language_info": {
      "name": "python"
    }
  },
  "cells": [
    {
      "cell_type": "code",
      "source": [
        "# Sources:\n",
        "# Eckert, S. C. (2021). Introduction to Topic Modeling. IntroDHSpring2021. https://github.com/sceckert/IntroDHSpring2021/blob/main/_week9/introduction-to-topic-modeling.ipynb"
      ],
      "metadata": {
        "id": "R9uK7cOeam_d"
      },
      "execution_count": null,
      "outputs": []
    },
    {
      "cell_type": "code",
      "execution_count": null,
      "metadata": {
        "colab": {
          "base_uri": "https://localhost:8080/"
        },
        "id": "-SEhHxrcjFmL",
        "outputId": "8b0b8345-83cb-49b4-8ac9-4b4c5b8cb30d"
      },
      "outputs": [
        {
          "output_type": "stream",
          "name": "stdout",
          "text": [
            "Looking in indexes: https://pypi.org/simple, https://us-python.pkg.dev/colab-wheels/public/simple/\n",
            "Collecting little_mallet_wrapper\n",
            "  Downloading little_mallet_wrapper-0.5.0-py3-none-any.whl (19 kB)\n",
            "Installing collected packages: little_mallet_wrapper\n",
            "Successfully installed little_mallet_wrapper-0.5.0\n"
          ]
        }
      ],
      "source": [
        "!pip install little_mallet_wrapper"
      ]
    },
    {
      "cell_type": "code",
      "source": [
        "import little_mallet_wrapper\n",
        "import seaborn\n",
        "import glob\n",
        "from pathlib import Path"
      ],
      "metadata": {
        "id": "5jTp12RNjOah"
      },
      "execution_count": null,
      "outputs": []
    },
    {
      "cell_type": "code",
      "source": [
        "# upload male and female corpora\n",
        "\n",
        "import zipfile\n",
        "from google.colab import files\n",
        "\n",
        "uploaded = files.upload()"
      ],
      "metadata": {
        "colab": {
          "base_uri": "https://localhost:8080/",
          "height": 74
        },
        "id": "oIXeFANVjPgn",
        "outputId": "f3d9af4c-1a94-44b1-a3fd-317b2e154e25"
      },
      "execution_count": null,
      "outputs": [
        {
          "output_type": "display_data",
          "data": {
            "text/plain": [
              "<IPython.core.display.HTML object>"
            ],
            "text/html": [
              "\n",
              "     <input type=\"file\" id=\"files-e5cce61d-55c7-4129-b35e-8e32ce367c28\" name=\"files[]\" multiple disabled\n",
              "        style=\"border:none\" />\n",
              "     <output id=\"result-e5cce61d-55c7-4129-b35e-8e32ce367c28\">\n",
              "      Upload widget is only available when the cell has been executed in the\n",
              "      current browser session. Please rerun this cell to enable.\n",
              "      </output>\n",
              "      <script>// Copyright 2017 Google LLC\n",
              "//\n",
              "// Licensed under the Apache License, Version 2.0 (the \"License\");\n",
              "// you may not use this file except in compliance with the License.\n",
              "// You may obtain a copy of the License at\n",
              "//\n",
              "//      http://www.apache.org/licenses/LICENSE-2.0\n",
              "//\n",
              "// Unless required by applicable law or agreed to in writing, software\n",
              "// distributed under the License is distributed on an \"AS IS\" BASIS,\n",
              "// WITHOUT WARRANTIES OR CONDITIONS OF ANY KIND, either express or implied.\n",
              "// See the License for the specific language governing permissions and\n",
              "// limitations under the License.\n",
              "\n",
              "/**\n",
              " * @fileoverview Helpers for google.colab Python module.\n",
              " */\n",
              "(function(scope) {\n",
              "function span(text, styleAttributes = {}) {\n",
              "  const element = document.createElement('span');\n",
              "  element.textContent = text;\n",
              "  for (const key of Object.keys(styleAttributes)) {\n",
              "    element.style[key] = styleAttributes[key];\n",
              "  }\n",
              "  return element;\n",
              "}\n",
              "\n",
              "// Max number of bytes which will be uploaded at a time.\n",
              "const MAX_PAYLOAD_SIZE = 100 * 1024;\n",
              "\n",
              "function _uploadFiles(inputId, outputId) {\n",
              "  const steps = uploadFilesStep(inputId, outputId);\n",
              "  const outputElement = document.getElementById(outputId);\n",
              "  // Cache steps on the outputElement to make it available for the next call\n",
              "  // to uploadFilesContinue from Python.\n",
              "  outputElement.steps = steps;\n",
              "\n",
              "  return _uploadFilesContinue(outputId);\n",
              "}\n",
              "\n",
              "// This is roughly an async generator (not supported in the browser yet),\n",
              "// where there are multiple asynchronous steps and the Python side is going\n",
              "// to poll for completion of each step.\n",
              "// This uses a Promise to block the python side on completion of each step,\n",
              "// then passes the result of the previous step as the input to the next step.\n",
              "function _uploadFilesContinue(outputId) {\n",
              "  const outputElement = document.getElementById(outputId);\n",
              "  const steps = outputElement.steps;\n",
              "\n",
              "  const next = steps.next(outputElement.lastPromiseValue);\n",
              "  return Promise.resolve(next.value.promise).then((value) => {\n",
              "    // Cache the last promise value to make it available to the next\n",
              "    // step of the generator.\n",
              "    outputElement.lastPromiseValue = value;\n",
              "    return next.value.response;\n",
              "  });\n",
              "}\n",
              "\n",
              "/**\n",
              " * Generator function which is called between each async step of the upload\n",
              " * process.\n",
              " * @param {string} inputId Element ID of the input file picker element.\n",
              " * @param {string} outputId Element ID of the output display.\n",
              " * @return {!Iterable<!Object>} Iterable of next steps.\n",
              " */\n",
              "function* uploadFilesStep(inputId, outputId) {\n",
              "  const inputElement = document.getElementById(inputId);\n",
              "  inputElement.disabled = false;\n",
              "\n",
              "  const outputElement = document.getElementById(outputId);\n",
              "  outputElement.innerHTML = '';\n",
              "\n",
              "  const pickedPromise = new Promise((resolve) => {\n",
              "    inputElement.addEventListener('change', (e) => {\n",
              "      resolve(e.target.files);\n",
              "    });\n",
              "  });\n",
              "\n",
              "  const cancel = document.createElement('button');\n",
              "  inputElement.parentElement.appendChild(cancel);\n",
              "  cancel.textContent = 'Cancel upload';\n",
              "  const cancelPromise = new Promise((resolve) => {\n",
              "    cancel.onclick = () => {\n",
              "      resolve(null);\n",
              "    };\n",
              "  });\n",
              "\n",
              "  // Wait for the user to pick the files.\n",
              "  const files = yield {\n",
              "    promise: Promise.race([pickedPromise, cancelPromise]),\n",
              "    response: {\n",
              "      action: 'starting',\n",
              "    }\n",
              "  };\n",
              "\n",
              "  cancel.remove();\n",
              "\n",
              "  // Disable the input element since further picks are not allowed.\n",
              "  inputElement.disabled = true;\n",
              "\n",
              "  if (!files) {\n",
              "    return {\n",
              "      response: {\n",
              "        action: 'complete',\n",
              "      }\n",
              "    };\n",
              "  }\n",
              "\n",
              "  for (const file of files) {\n",
              "    const li = document.createElement('li');\n",
              "    li.append(span(file.name, {fontWeight: 'bold'}));\n",
              "    li.append(span(\n",
              "        `(${file.type || 'n/a'}) - ${file.size} bytes, ` +\n",
              "        `last modified: ${\n",
              "            file.lastModifiedDate ? file.lastModifiedDate.toLocaleDateString() :\n",
              "                                    'n/a'} - `));\n",
              "    const percent = span('0% done');\n",
              "    li.appendChild(percent);\n",
              "\n",
              "    outputElement.appendChild(li);\n",
              "\n",
              "    const fileDataPromise = new Promise((resolve) => {\n",
              "      const reader = new FileReader();\n",
              "      reader.onload = (e) => {\n",
              "        resolve(e.target.result);\n",
              "      };\n",
              "      reader.readAsArrayBuffer(file);\n",
              "    });\n",
              "    // Wait for the data to be ready.\n",
              "    let fileData = yield {\n",
              "      promise: fileDataPromise,\n",
              "      response: {\n",
              "        action: 'continue',\n",
              "      }\n",
              "    };\n",
              "\n",
              "    // Use a chunked sending to avoid message size limits. See b/62115660.\n",
              "    let position = 0;\n",
              "    do {\n",
              "      const length = Math.min(fileData.byteLength - position, MAX_PAYLOAD_SIZE);\n",
              "      const chunk = new Uint8Array(fileData, position, length);\n",
              "      position += length;\n",
              "\n",
              "      const base64 = btoa(String.fromCharCode.apply(null, chunk));\n",
              "      yield {\n",
              "        response: {\n",
              "          action: 'append',\n",
              "          file: file.name,\n",
              "          data: base64,\n",
              "        },\n",
              "      };\n",
              "\n",
              "      let percentDone = fileData.byteLength === 0 ?\n",
              "          100 :\n",
              "          Math.round((position / fileData.byteLength) * 100);\n",
              "      percent.textContent = `${percentDone}% done`;\n",
              "\n",
              "    } while (position < fileData.byteLength);\n",
              "  }\n",
              "\n",
              "  // All done.\n",
              "  yield {\n",
              "    response: {\n",
              "      action: 'complete',\n",
              "    }\n",
              "  };\n",
              "}\n",
              "\n",
              "scope.google = scope.google || {};\n",
              "scope.google.colab = scope.google.colab || {};\n",
              "scope.google.colab._files = {\n",
              "  _uploadFiles,\n",
              "  _uploadFilesContinue,\n",
              "};\n",
              "})(self);\n",
              "</script> "
            ]
          },
          "metadata": {}
        },
        {
          "output_type": "stream",
          "name": "stdout",
          "text": [
            "Saving data_refined.zip to data_refined.zip\n"
          ]
        }
      ]
    },
    {
      "cell_type": "code",
      "source": [
        "path_to_zip_file = list(uploaded.keys())[0]\n",
        "\n",
        "print ('Extracting',path_to_zip_file)\n",
        "\n",
        "with zipfile.ZipFile(path_to_zip_file, 'r') as zip_ref:\n",
        "  zip_ref.extractall('.')\n",
        "\n",
        "print()\n",
        "print('Here is a directory listing (you should see a directory with your corpus):')\n",
        "!ls -l"
      ],
      "metadata": {
        "colab": {
          "base_uri": "https://localhost:8080/"
        },
        "id": "Q9a3-kfzjRvT",
        "outputId": "d48c2d01-a42b-4ec0-eea0-b7fde92acd07"
      },
      "execution_count": null,
      "outputs": [
        {
          "output_type": "stream",
          "name": "stdout",
          "text": [
            "Extracting data_refined.zip\n",
            "\n",
            "Here is a directory listing (you should see a directory with your corpus):\n",
            "total 124332\n",
            "drwxr-xr-x 4 root root      4096 May  1 11:36 data_refined\n",
            "-rw-r--r-- 1 root root 127303193 May  1 11:36 data_refined.zip\n",
            "drwxr-xr-x 3 root root      4096 May  1 11:36 __MACOSX\n",
            "drwxr-xr-x 1 root root      4096 Apr 27 13:35 sample_data\n"
          ]
        }
      ]
    },
    {
      "cell_type": "code",
      "source": [
        "uploaded = files.upload()"
      ],
      "metadata": {
        "colab": {
          "base_uri": "https://localhost:8080/",
          "height": 74
        },
        "id": "Ui_VnwZrjTaL",
        "outputId": "3c019c65-0ea0-4407-8436-d03c6343db36"
      },
      "execution_count": null,
      "outputs": [
        {
          "output_type": "display_data",
          "data": {
            "text/plain": [
              "<IPython.core.display.HTML object>"
            ],
            "text/html": [
              "\n",
              "     <input type=\"file\" id=\"files-a8e66561-3f14-4889-8ef3-808873b76a22\" name=\"files[]\" multiple disabled\n",
              "        style=\"border:none\" />\n",
              "     <output id=\"result-a8e66561-3f14-4889-8ef3-808873b76a22\">\n",
              "      Upload widget is only available when the cell has been executed in the\n",
              "      current browser session. Please rerun this cell to enable.\n",
              "      </output>\n",
              "      <script>// Copyright 2017 Google LLC\n",
              "//\n",
              "// Licensed under the Apache License, Version 2.0 (the \"License\");\n",
              "// you may not use this file except in compliance with the License.\n",
              "// You may obtain a copy of the License at\n",
              "//\n",
              "//      http://www.apache.org/licenses/LICENSE-2.0\n",
              "//\n",
              "// Unless required by applicable law or agreed to in writing, software\n",
              "// distributed under the License is distributed on an \"AS IS\" BASIS,\n",
              "// WITHOUT WARRANTIES OR CONDITIONS OF ANY KIND, either express or implied.\n",
              "// See the License for the specific language governing permissions and\n",
              "// limitations under the License.\n",
              "\n",
              "/**\n",
              " * @fileoverview Helpers for google.colab Python module.\n",
              " */\n",
              "(function(scope) {\n",
              "function span(text, styleAttributes = {}) {\n",
              "  const element = document.createElement('span');\n",
              "  element.textContent = text;\n",
              "  for (const key of Object.keys(styleAttributes)) {\n",
              "    element.style[key] = styleAttributes[key];\n",
              "  }\n",
              "  return element;\n",
              "}\n",
              "\n",
              "// Max number of bytes which will be uploaded at a time.\n",
              "const MAX_PAYLOAD_SIZE = 100 * 1024;\n",
              "\n",
              "function _uploadFiles(inputId, outputId) {\n",
              "  const steps = uploadFilesStep(inputId, outputId);\n",
              "  const outputElement = document.getElementById(outputId);\n",
              "  // Cache steps on the outputElement to make it available for the next call\n",
              "  // to uploadFilesContinue from Python.\n",
              "  outputElement.steps = steps;\n",
              "\n",
              "  return _uploadFilesContinue(outputId);\n",
              "}\n",
              "\n",
              "// This is roughly an async generator (not supported in the browser yet),\n",
              "// where there are multiple asynchronous steps and the Python side is going\n",
              "// to poll for completion of each step.\n",
              "// This uses a Promise to block the python side on completion of each step,\n",
              "// then passes the result of the previous step as the input to the next step.\n",
              "function _uploadFilesContinue(outputId) {\n",
              "  const outputElement = document.getElementById(outputId);\n",
              "  const steps = outputElement.steps;\n",
              "\n",
              "  const next = steps.next(outputElement.lastPromiseValue);\n",
              "  return Promise.resolve(next.value.promise).then((value) => {\n",
              "    // Cache the last promise value to make it available to the next\n",
              "    // step of the generator.\n",
              "    outputElement.lastPromiseValue = value;\n",
              "    return next.value.response;\n",
              "  });\n",
              "}\n",
              "\n",
              "/**\n",
              " * Generator function which is called between each async step of the upload\n",
              " * process.\n",
              " * @param {string} inputId Element ID of the input file picker element.\n",
              " * @param {string} outputId Element ID of the output display.\n",
              " * @return {!Iterable<!Object>} Iterable of next steps.\n",
              " */\n",
              "function* uploadFilesStep(inputId, outputId) {\n",
              "  const inputElement = document.getElementById(inputId);\n",
              "  inputElement.disabled = false;\n",
              "\n",
              "  const outputElement = document.getElementById(outputId);\n",
              "  outputElement.innerHTML = '';\n",
              "\n",
              "  const pickedPromise = new Promise((resolve) => {\n",
              "    inputElement.addEventListener('change', (e) => {\n",
              "      resolve(e.target.files);\n",
              "    });\n",
              "  });\n",
              "\n",
              "  const cancel = document.createElement('button');\n",
              "  inputElement.parentElement.appendChild(cancel);\n",
              "  cancel.textContent = 'Cancel upload';\n",
              "  const cancelPromise = new Promise((resolve) => {\n",
              "    cancel.onclick = () => {\n",
              "      resolve(null);\n",
              "    };\n",
              "  });\n",
              "\n",
              "  // Wait for the user to pick the files.\n",
              "  const files = yield {\n",
              "    promise: Promise.race([pickedPromise, cancelPromise]),\n",
              "    response: {\n",
              "      action: 'starting',\n",
              "    }\n",
              "  };\n",
              "\n",
              "  cancel.remove();\n",
              "\n",
              "  // Disable the input element since further picks are not allowed.\n",
              "  inputElement.disabled = true;\n",
              "\n",
              "  if (!files) {\n",
              "    return {\n",
              "      response: {\n",
              "        action: 'complete',\n",
              "      }\n",
              "    };\n",
              "  }\n",
              "\n",
              "  for (const file of files) {\n",
              "    const li = document.createElement('li');\n",
              "    li.append(span(file.name, {fontWeight: 'bold'}));\n",
              "    li.append(span(\n",
              "        `(${file.type || 'n/a'}) - ${file.size} bytes, ` +\n",
              "        `last modified: ${\n",
              "            file.lastModifiedDate ? file.lastModifiedDate.toLocaleDateString() :\n",
              "                                    'n/a'} - `));\n",
              "    const percent = span('0% done');\n",
              "    li.appendChild(percent);\n",
              "\n",
              "    outputElement.appendChild(li);\n",
              "\n",
              "    const fileDataPromise = new Promise((resolve) => {\n",
              "      const reader = new FileReader();\n",
              "      reader.onload = (e) => {\n",
              "        resolve(e.target.result);\n",
              "      };\n",
              "      reader.readAsArrayBuffer(file);\n",
              "    });\n",
              "    // Wait for the data to be ready.\n",
              "    let fileData = yield {\n",
              "      promise: fileDataPromise,\n",
              "      response: {\n",
              "        action: 'continue',\n",
              "      }\n",
              "    };\n",
              "\n",
              "    // Use a chunked sending to avoid message size limits. See b/62115660.\n",
              "    let position = 0;\n",
              "    do {\n",
              "      const length = Math.min(fileData.byteLength - position, MAX_PAYLOAD_SIZE);\n",
              "      const chunk = new Uint8Array(fileData, position, length);\n",
              "      position += length;\n",
              "\n",
              "      const base64 = btoa(String.fromCharCode.apply(null, chunk));\n",
              "      yield {\n",
              "        response: {\n",
              "          action: 'append',\n",
              "          file: file.name,\n",
              "          data: base64,\n",
              "        },\n",
              "      };\n",
              "\n",
              "      let percentDone = fileData.byteLength === 0 ?\n",
              "          100 :\n",
              "          Math.round((position / fileData.byteLength) * 100);\n",
              "      percent.textContent = `${percentDone}% done`;\n",
              "\n",
              "    } while (position < fileData.byteLength);\n",
              "  }\n",
              "\n",
              "  // All done.\n",
              "  yield {\n",
              "    response: {\n",
              "      action: 'complete',\n",
              "    }\n",
              "  };\n",
              "}\n",
              "\n",
              "scope.google = scope.google || {};\n",
              "scope.google.colab = scope.google.colab || {};\n",
              "scope.google.colab._files = {\n",
              "  _uploadFiles,\n",
              "  _uploadFilesContinue,\n",
              "};\n",
              "})(self);\n",
              "</script> "
            ]
          },
          "metadata": {}
        },
        {
          "output_type": "stream",
          "name": "stdout",
          "text": [
            "Saving results.zip to results.zip\n"
          ]
        }
      ]
    },
    {
      "cell_type": "code",
      "source": [
        "path_to_zip_file = list(uploaded.keys())[0]\n",
        "\n",
        "print ('Extracting',path_to_zip_file)\n",
        "\n",
        "with zipfile.ZipFile(path_to_zip_file, 'r') as zip_ref:\n",
        "  zip_ref.extractall('.')\n",
        "\n",
        "print()\n",
        "print('Here is a directory listing (you should see a directory with your corpus):')\n",
        "!ls -l"
      ],
      "metadata": {
        "colab": {
          "base_uri": "https://localhost:8080/"
        },
        "id": "AosDhOtHjUqs",
        "outputId": "009fd5ae-eb11-4340-ad46-74625dc570e1"
      },
      "execution_count": null,
      "outputs": [
        {
          "output_type": "stream",
          "name": "stdout",
          "text": [
            "Extracting results.zip\n",
            "\n",
            "Here is a directory listing (you should see a directory with your corpus):\n",
            "total 338748\n",
            "drwxr-xr-x 4 root root      4096 May  1 11:36 data_refined\n",
            "-rw-r--r-- 1 root root 127303193 May  1 11:36 data_refined.zip\n",
            "drwxr-xr-x 4 root root      4096 May  1 11:55 __MACOSX\n",
            "drwxr-xr-x 4 root root      4096 May  1 11:55 results\n",
            "-rw-r--r-- 1 root root 219555712 May  1 11:55 results.zip\n",
            "drwxr-xr-x 1 root root      4096 Apr 27 13:35 sample_data\n"
          ]
        }
      ]
    },
    {
      "cell_type": "code",
      "source": [
        "num_topics = 15"
      ],
      "metadata": {
        "id": "nYHxuviajVNy"
      },
      "execution_count": null,
      "outputs": []
    },
    {
      "cell_type": "code",
      "source": [
        "files = glob.glob(f\"data_refined/female/*.txt\")\n",
        "novel_titles_female = [Path(file).stem for file in files]\n",
        "\n",
        "path_to_topic_distributions_female = f\"results/female/mallet.topic_distributions.{str(num_topics)}\"\n",
        "topic_distributions_female = little_mallet_wrapper.load_topic_distributions(path_to_topic_distributions_female)\n",
        "\n",
        "path_to_topic_keys_female = f\"results/female/mallet.topic_keys.{str(num_topics)}\"\n",
        "topics_female = little_mallet_wrapper.load_topic_keys(path_to_topic_keys_female)"
      ],
      "metadata": {
        "id": "enwJGpwGjYbw"
      },
      "execution_count": null,
      "outputs": []
    },
    {
      "cell_type": "code",
      "source": [
        "!pip install nltk"
      ],
      "metadata": {
        "colab": {
          "base_uri": "https://localhost:8080/"
        },
        "id": "9BcxRyeP58dd",
        "outputId": "ec56f130-d0dd-41dc-8d2d-ba1da53254fc"
      },
      "execution_count": null,
      "outputs": [
        {
          "output_type": "stream",
          "name": "stdout",
          "text": [
            "Looking in indexes: https://pypi.org/simple, https://us-python.pkg.dev/colab-wheels/public/simple/\n",
            "Requirement already satisfied: nltk in /usr/local/lib/python3.10/dist-packages (3.8.1)\n",
            "Requirement already satisfied: joblib in /usr/local/lib/python3.10/dist-packages (from nltk) (1.2.0)\n",
            "Requirement already satisfied: click in /usr/local/lib/python3.10/dist-packages (from nltk) (8.1.3)\n",
            "Requirement already satisfied: tqdm in /usr/local/lib/python3.10/dist-packages (from nltk) (4.65.0)\n",
            "Requirement already satisfied: regex>=2021.8.3 in /usr/local/lib/python3.10/dist-packages (from nltk) (2022.10.31)\n"
          ]
        }
      ]
    },
    {
      "cell_type": "code",
      "source": [
        "import nltk\n",
        "nltk.download('stopwords')\n",
        "from nltk.corpus import stopwords\n",
        "\n",
        "stop_words = set(stopwords.words('english'))\n",
        "stop_words.update([\"would\", \"could\", \"said\", \"illinois\"])\n",
        "stop_words = list(stop_words)"
      ],
      "metadata": {
        "colab": {
          "base_uri": "https://localhost:8080/"
        },
        "id": "se9bT9_J55nJ",
        "outputId": "684130b2-946d-413c-87d2-5924adbc7a4e"
      },
      "execution_count": null,
      "outputs": [
        {
          "output_type": "stream",
          "name": "stderr",
          "text": [
            "[nltk_data] Downloading package stopwords to /root/nltk_data...\n",
            "[nltk_data]   Unzipping corpora/stopwords.zip.\n"
          ]
        }
      ]
    },
    {
      "cell_type": "code",
      "source": [
        "training_data_female = []\n",
        "for file in files:\n",
        "    text = open(file, encoding='utf-8').read()\n",
        "    processed_text = little_mallet_wrapper.process_string(text, numbers='remove', stop_words=stop_words)\n",
        "    training_data_female.append(processed_text)"
      ],
      "metadata": {
        "id": "jnvxx1CY4Jcg"
      },
      "execution_count": null,
      "outputs": []
    },
    {
      "cell_type": "code",
      "source": [
        "training_data_titles_female = dict(zip(training_data_female, novel_titles_female))"
      ],
      "metadata": {
        "id": "rjL8QR0njgnu"
      },
      "execution_count": null,
      "outputs": []
    },
    {
      "cell_type": "code",
      "source": [
        "number_of_documents = 5\n",
        "for topic_number in range(num_topics):\n",
        "  print(f\"Topic {topic_number}: {topics_female[topic_number]}\\n\")\n",
        "  for probability, document in little_mallet_wrapper.get_top_docs(training_data_female, topic_distributions_female, topic_number, n=number_of_documents):\n",
        "    print(round(probability, 4), training_data_titles_female[document] + \"\\n\")"
      ],
      "metadata": {
        "colab": {
          "base_uri": "https://localhost:8080/"
        },
        "id": "g06Md70x4ZeP",
        "outputId": "a15b9122-2f16-445b-83e3-0b707d3901b3"
      },
      "execution_count": null,
      "outputs": [
        {
          "output_type": "stream",
          "name": "stdout",
          "text": [
            "Topic 0: ['lady', 'mother', 'one', 'poor', 'thou', 'good', 'queen', 'sir', 'honor', 'mona', 'dorothy', 'little', 'dick', 'lorraine', 'see', 'child', 'stephen', 'must', 'aut', 'young']\n",
            "\n",
            "0.4364 RiddellMrsJH__SusanDrummondanovel\n",
            "\n",
            "0.3953 CrommelinMay__VioletVyvianMFH\n",
            "\n",
            "0.3535 WalfordLucyBethia__Astiffneckedgeneration\n",
            "\n",
            "0.2362 CareyRosaNouchette__QueenieswhimanovelByRosaNouchetteCareyInthreevolumes\n",
            "\n",
            "0.2126 SartorisAdelaideKemble__Pasthours\n",
            "\n",
            "Topic 1: ['sir', 'philip', 'lady', 'face', 'vera', 'know', 'see', 'little', 'one', 'room', 'come', 'stella', 'say', 'madge', 'old', 'erica', 'dear', 'answered', 'tell', 'man']\n",
            "\n",
            "0.2769 MarryatFlorence__Howtheylovedhimanovel\n",
            "\n",
            "0.2614 WoodMrsHenry__LadyGraceandotherstories\n",
            "\n",
            "0.2488 CluttonBrockEllen__Marjoryastudy\n",
            "\n",
            "0.2419 RiddellMrsJH__ThegovernmentofficialAnovel\n",
            "\n",
            "0.22 BethamWalter__Nextofkinwantedanovel\n",
            "\n",
            "Topic 2: ['one', 'eyes', 'love', 'upon', 'face', 'like', 'life', 'heart', 'yet', 'seemed', 'little', 'hand', 'still', 'man', 'voice', 'long', 'words', 'woman', 'away', 'night']\n",
            "\n",
            "0.7282 CrommelinMay__Inthewestcountrie\n",
            "\n",
            "0.624 KennardMrsEdward__Acrackcountyanovel\n",
            "\n",
            "0.5218 TytlerSarah__OliverConstablemillerandbaker\n",
            "\n",
            "0.5142 OHanlonAlice__Adiamondintherough\n",
            "\n",
            "0.466 NeedellMary__JulianKarslakessecretanovel\n",
            "\n",
            "Topic 3: ['alessandro', 'father', 'one', 'never', 'ramona', 'glen', 'house', 'denys', 'nan', 'day', 'come', 'little', 'old', 'judith', 'poor', 'came', 'phillis', 'good', 'felipe', 'dick']\n",
            "\n",
            "0.4166 RussellDora__CrsussWidowAnovel\n",
            "\n",
            "0.2313 CorelliMarie__Thelmaasocietynovel\n",
            "\n",
            "0.2245 BraddonMaryElizabeth__Thegoldencalfanovel\n",
            "\n",
            "0.1986 OliphantMrsMargaret__ThegreatestheiressinEngland\n",
            "\n",
            "0.1906 PoynterEFrancesEleanorFrances__ThewooingofCatherineandothertales\n",
            "\n",
            "Topic 4: ['lady', 'eve', 'muriel', 'iris', 'sir', 'adam', 'wentworth', 'esse', 'stasie', 'mother', 'fenella', 'miss', 'joan', 'jerry', 'arthur', 'lord', 'upon', 'william', 'harding', 'tell']\n",
            "\n",
            "0.2679 YongeCharlotteMary__Nuttiesfather\n",
            "\n",
            "0.2112 BuxtonBerthaHLeopold__Anoblenameanovel\n",
            "\n",
            "0.2041 WardenFlorence__Awitchofthehills\n",
            "\n",
            "0.1985 BraddonMaryElizabeth__ThestoryofBarbarahersplendidmiseryandhergildedcageanovel\n",
            "\n",
            "0.1865 OliphantMrsMargaret__Madam\n",
            "\n",
            "Topic 5: ['know', 'one', 'little', 'think', 'see', 'mrs', 'never', 'must', 'thought', 'like', 'well', 'come', 'much', 'good', 'say', 'dear', 'quite', 'yes', 'time', 'came']\n",
            "\n",
            "0.7727 OliphantMrsMargaret__HarryJoscelyn\n",
            "\n",
            "0.7278 LyallEdna__Knighterrant\n",
            "\n",
            "0.6834 StanleyJaneNovelist__Anewfaceatthedoor\n",
            "\n",
            "0.6786 TytlerSarah__Burieddiamonds\n",
            "\n",
            "0.6615 JervoiseArthurTristramMrs__Therollcallanovel\n",
            "\n",
            "Topic 6: ['lady', 'little', 'laura', 'violet', 'miss', 'dear', 'kate', 'cyril', 'mrs', 'returned', 'roger', 'think', 'sir', 'old', 'garth', 'barbara', 'queene', 'never', 'must', 'come']\n",
            "\n",
            "0.243 WardenFlorence__Aprinceofdarknessanovel\n",
            "\n",
            "0.2162 CholmondeleyMary__SirCharlesDanvers\n",
            "\n",
            "0.2135 CraikGeorgianaMarion__Sydney\n",
            "\n",
            "0.2111 HuntAlfredWilliam__Thatotherpersonanovel\n",
            "\n",
            "0.2082 RobinsonAMaryFAgnesMaryFrances__ArdenAnovel\n",
            "\n",
            "Topic 7: ['lady', 'upon', 'life', 'man', 'one', 'old', 'know', 'never', 'room', 'think', 'good', 'wife', 'must', 'little', 'love', 'house', 'mother', 'much', 'dear', 'mrs']\n",
            "\n",
            "0.5006 DiehlAliceMangold__Griseldaanovel\n",
            "\n",
            "0.4856 FraserTytlerMEMaryElizabeth__GriselRomneyanovel\n",
            "\n",
            "0.4672 GlaisterElizabeth__Theperfectpathanovel\n",
            "\n",
            "0.4639 BraddonMaryElizabeth__Wyllardsweird\n",
            "\n",
            "0.4621 LintonELynnElizabethLynn__Mylove\n",
            "\n",
            "Topic 8: ['says', 'lady', 'nellie', 'sir', 'girl', 'dear', 'mrs', 'never', 'miss', 'know', 'elsie', 'shall', 'see', 'young', 'little', 'charlie', 'beta', 'well', 'old', 'must']\n",
            "\n",
            "0.3429 DixieFlorence__Redeemedinblood\n",
            "\n",
            "0.3027 ThomasAnnie__AllertonTowersAnovel\n",
            "\n",
            "0.3022 CrommelinMay__MissDaisyDimity\n",
            "\n",
            "0.2938 FordeGertrude__Drivenbeforethestorm\n",
            "\n",
            "0.2717 RybotVictoriaBaker__TheScottsofBestminster\n",
            "\n",
            "Topic 9: ['madame', 'never', 'crown', 'cloth', 'paul', 'one', 'little', 'thought', 'jack', 'lady', 'always', 'jeanne', 'extra', 'woman', 'great', 'life', 'like', 'monsieur', 'think', 'world']\n",
            "\n",
            "0.3807 CorelliMarie__Aromanceoftwoworldsanovel\n",
            "\n",
            "0.3702 DuffHenriettaAnne__HonorCarmichaelastudy\n",
            "\n",
            "0.3636 BanksLinnaeusGeorge__Sybillaandotherstories\n",
            "\n",
            "0.3157 WalfordLucyBethia__Troublesomedaughters\n",
            "\n",
            "0.2859 NeedellMary__JulianKarslakessecretanovel\n",
            "\n",
            "Topic 10: ['edith', 'lady', 'sydney', 'miss', 'hester', 'dear', 'aunt', 'olive', 'mrs', 'father', 'janet', 'come', 'mother', 'gillian', 'laura', 'poor', 'bernard', 'much', 'one', 'know']\n",
            "\n",
            "0.2922 TaylorIdaAshworth__Allegiance\n",
            "\n",
            "0.288 SteinmanEmmaCC__Ourlittlegipsyanovel\n",
            "\n",
            "0.2493 WardenFlorence__StCuthbertsTower\n",
            "\n",
            "0.2242 OliphantMrsMargaret__SirTom\n",
            "\n",
            "0.2088 BraddonMaryElizabeth__Onethingneedful\n",
            "\n",
            "Topic 11: ['upon', 'miss', 'lady', 'colonel', 'father', 'one', 'sophy', 'dear', 'old', 'jessie', 'george', 'mother', 'young', 'must', 'much', 'sir', 'horn', 'uncle', 'little', 'lucy']\n",
            "\n",
            "0.3508 LintonELynnElizabethLynn__Throughthelongnight\n",
            "\n",
            "0.3419 BrewMargaretW__ThechroniclesofCastleCloyneorPicturesoftheMunsterpeople\n",
            "\n",
            "0.3355 MacquoidKatharineSarah__Besidetheriveratale\n",
            "\n",
            "0.2985 CorelliMarie__Ardaththestoryofadeadself\n",
            "\n",
            "0.2979 FothergillJessie__Borderlandacountrytownchronicle\n",
            "\n",
            "Topic 12: ['old', 'like', 'young', 'man', 'one', 'little', 'well', 'good', 'back', 'father', 'time', 'come', 'head', 'two', 'came', 'miss', 'poor', 'might', 'get', 'way']\n",
            "\n",
            "0.4292 CurtoisMargaretAnne__TrackedAstoryintwovolumes\n",
            "\n",
            "0.4211 BraddonMaryElizabeth__Asphodelanovel\n",
            "\n",
            "0.3969 AlexanderMrs__Monaschoiceanovel\n",
            "\n",
            "0.3674 CarrAliceVansittartStrettell__MargaretMaliphantAnovelbyMrsComynsCarrInthreevolumes\n",
            "\n",
            "0.3538 HardyDuffusLady__Insightoflandanovel\n",
            "\n",
            "Topic 13: ['little', 'one', 'know', 'like', 'think', 'upon', 'never', 'lady', 'much', 'say', 'mother', 'come', 'nothing', 'lucy', 'thought', 'great', 'man', 'old', 'made', 'young']\n",
            "\n",
            "0.6423 DillwynElizabethAmy__Jill\n",
            "\n",
            "0.6224 CarringtonMrs__PrinceFortuneandPrinceFatal\n",
            "\n",
            "0.6147 BealeAnne__Restitution\n",
            "\n",
            "0.6136 CareyRosaNouchette__Notlikeothergirlsanovel\n",
            "\n",
            "0.6103 MaletLucas__MrsLorimerasketchinblackandwhite\n",
            "\n",
            "Topic 14: ['one', 'mrs', 'might', 'time', 'much', 'even', 'well', 'make', 'good', 'man', 'never', 'think', 'upon', 'know', 'must', 'life', 'say', 'without', 'mind', 'way']\n",
            "\n",
            "0.6098 HoeyFrancesSarahJohnston__Theloverscreedanovel\n",
            "\n",
            "0.5859 RooseveltBlanche__Thecopperqueenaromanceoftodayandyesterday\n",
            "\n",
            "0.4814 MathersHelen__EyresacquittalAsequeltoStoryofasin\n",
            "\n",
            "0.4758 MiddlemassJean__NellyJocelynwidow\n",
            "\n",
            "0.4648 YongeCharlotteMary__Chantryhouse\n",
            "\n"
          ]
        }
      ]
    },
    {
      "cell_type": "code",
      "source": [
        "from collections import defaultdict"
      ],
      "metadata": {
        "id": "A7q4gFowDGi4"
      },
      "execution_count": null,
      "outputs": []
    },
    {
      "cell_type": "code",
      "source": [
        "topics_works_female = defaultdict(list)\n",
        "for topic_number in range(num_topics):\n",
        "  key = f\"Topic {topic_number}: {topics_female[topic_number]}\\n\"\n",
        "  for probability, document in little_mallet_wrapper.get_top_docs(training_data_female, topic_distributions_female, topic_number, n=1):\n",
        "    if probability < 0.5:\n",
        "      break\n",
        "    topics_works_female[key] = [round(probability, 4), training_data_titles_female[document]]"
      ],
      "metadata": {
        "id": "Dwi9sYEJ-sWr"
      },
      "execution_count": null,
      "outputs": []
    },
    {
      "cell_type": "code",
      "source": [
        "files = glob.glob(f\"data_refined/male/*.txt\")\n",
        "novel_titles_male = [Path(file).stem for file in files]\n",
        "\n",
        "path_to_topic_distributions_male = f\"results/male/mallet.topic_distributions.{str(num_topics)}\"\n",
        "topic_distributions_male = little_mallet_wrapper.load_topic_distributions(path_to_topic_distributions_male)\n",
        "\n",
        "path_to_topic_keys_male = f\"results/male/mallet.topic_keys.{str(num_topics)}\"\n",
        "topics_male = little_mallet_wrapper.load_topic_keys(path_to_topic_keys_male)"
      ],
      "metadata": {
        "id": "DmNDmR9lEIKN"
      },
      "execution_count": null,
      "outputs": []
    },
    {
      "cell_type": "code",
      "source": [
        "path_to_topic_weights_female = f\"results/female/mallet.topic_weights.{str(num_topics)}\"\n",
        "topic_weights_female = little_mallet_wrapper.load_topic_word_distributions(path_to_topic_weights_female)\n"
      ],
      "metadata": {
        "id": "enCRfIPrEw4Z"
      },
      "execution_count": null,
      "outputs": []
    },
    {
      "cell_type": "code",
      "source": [
        "topic_divergence_female = float(\"-inf\")\n",
        "topic_pairs_female = []\n",
        "\n",
        "for i in range(num_topics):\n",
        "  for j in range(i + 1, num_topics):\n",
        "    topic_div = little_mallet_wrapper.get_js_divergence_topics(i, j, topic_weights_female)\n",
        "    if topic_div >= topic_divergence_female:\n",
        "      topic_divergence_female = topic_div\n",
        "      topic_pairs_female = [i, j]\n",
        "\n",
        "print(topic_divergence_female)\n",
        "print(topic_pairs_female)"
      ],
      "metadata": {
        "colab": {
          "base_uri": "https://localhost:8080/"
        },
        "id": "yMjc5-PlFv3u",
        "outputId": "b6894277-8297-44dd-9357-a43fad446ab5"
      },
      "execution_count": null,
      "outputs": [
        {
          "output_type": "stream",
          "name": "stdout",
          "text": [
            "0.7119214054139558\n",
            "[2, 4]\n"
          ]
        }
      ]
    },
    {
      "cell_type": "code",
      "source": [
        "topic_divergence_female = float(\"inf\")\n",
        "topic_pairs_female = []\n",
        "\n",
        "for i in range(num_topics):\n",
        "  for j in range(i + 1, num_topics):\n",
        "    topic_div = little_mallet_wrapper.get_js_divergence_topics(i, j, topic_weights_female)\n",
        "    if topic_div <= topic_divergence_female:\n",
        "      topic_divergence_female = topic_div\n",
        "      topic_pairs_female = [i, j]\n",
        "\n",
        "print(topic_divergence_female)\n",
        "print(topic_pairs_female)"
      ],
      "metadata": {
        "colab": {
          "base_uri": "https://localhost:8080/"
        },
        "id": "anSiORZOvTva",
        "outputId": "89537425-47c7-4e21-db69-47c938861e92"
      },
      "execution_count": null,
      "outputs": [
        {
          "output_type": "stream",
          "name": "stdout",
          "text": [
            "0.39660398140071346\n",
            "[5, 13]\n"
          ]
        }
      ]
    },
    {
      "cell_type": "code",
      "source": [
        "document_divergence_female = float(\"-inf\")\n",
        "document_pairs_female = []\n",
        "\n",
        "for i in range(num_topics):\n",
        "  for j in range(i + 1, num_topics):\n",
        "    document_div = little_mallet_wrapper.get_js_divergence_documents(i, j, topic_distributions_female)\n",
        "    if document_div >= document_divergence_female:\n",
        "      document_divergence_female = document_div\n",
        "      document_pairs_female = [i, j]\n",
        "\n",
        "print(document_divergence_female)\n",
        "print(document_pairs_female)"
      ],
      "metadata": {
        "colab": {
          "base_uri": "https://localhost:8080/"
        },
        "id": "cKuyB7YzMrbn",
        "outputId": "33e7d68c-b9ef-4cfb-bd0c-8315020a38fd"
      },
      "execution_count": null,
      "outputs": [
        {
          "output_type": "stream",
          "name": "stdout",
          "text": [
            "0.622261862941012\n",
            "[0, 14]\n"
          ]
        }
      ]
    },
    {
      "cell_type": "code",
      "source": [
        "path_to_topic_weights_male = f\"results/male/mallet.topic_weights.{str(num_topics)}\"\n",
        "topic_weights_male = little_mallet_wrapper.load_topic_word_distributions(path_to_topic_weights_male)"
      ],
      "metadata": {
        "id": "mVHKna_fQsf-"
      },
      "execution_count": null,
      "outputs": []
    },
    {
      "cell_type": "code",
      "source": [
        "topic_divergence_male = float(\"-inf\")\n",
        "topic_pairs_male = []\n",
        "\n",
        "for i in range(num_topics):\n",
        "  for j in range(i + 1, num_topics):\n",
        "    topic_div = little_mallet_wrapper.get_js_divergence_topics(i, j, topic_weights_male)\n",
        "    if topic_div >= topic_divergence_male:\n",
        "      topic_divergence_male = topic_div\n",
        "      topic_pairs_male = [i, j]\n",
        "\n",
        "print(topic_divergence_male)\n",
        "print(topic_pairs_male)"
      ],
      "metadata": {
        "colab": {
          "base_uri": "https://localhost:8080/"
        },
        "id": "qkpMx7Z-IId3",
        "outputId": "96b7215e-a0d2-4dd8-ee83-d82a3a63e7c3"
      },
      "execution_count": null,
      "outputs": [
        {
          "output_type": "stream",
          "name": "stdout",
          "text": [
            "0.7152089790878209\n",
            "[9, 13]\n"
          ]
        }
      ]
    },
    {
      "cell_type": "code",
      "source": [
        "topic_divergence_male = float(\"inf\")\n",
        "topic_pairs_male = []\n",
        "\n",
        "for i in range(num_topics):\n",
        "  for j in range(i + 1, num_topics):\n",
        "    topic_div = little_mallet_wrapper.get_js_divergence_topics(i, j, topic_weights_male)\n",
        "    if topic_div <= topic_divergence_male:\n",
        "      topic_divergence_male = topic_div\n",
        "      topic_pairs_male = [i, j]\n",
        "\n",
        "print(topic_divergence_male)\n",
        "print(topic_pairs_male)"
      ],
      "metadata": {
        "colab": {
          "base_uri": "https://localhost:8080/"
        },
        "id": "4I09DNkbvxRb",
        "outputId": "cbf64cf2-39ce-417f-c17a-a8217484047d"
      },
      "execution_count": null,
      "outputs": [
        {
          "output_type": "stream",
          "name": "stdout",
          "text": [
            "0.5066614411942418\n",
            "[8, 14]\n"
          ]
        }
      ]
    },
    {
      "cell_type": "code",
      "source": [
        "num_common = float(\"inf\")\n",
        "res = []\n",
        "for i in range(num_topics):\n",
        "  words_female = set(topics_female[i])\n",
        "  for j in range(i + 1, num_topics):\n",
        "    common = 0\n",
        "    words_male = set(topics_male[j])\n",
        "    temp = set(topics_male[j])\n",
        "\n",
        "    for k in temp:\n",
        "      if k in words_female:\n",
        "        words_female.remove(k)\n",
        "        words_male.remove(k)\n",
        "        common += 1\n",
        "    if common < num_common:\n",
        "      res = [[i, j]]\n",
        "      num_common = common\n",
        "    elif common == num_common:\n",
        "      res.append([i, j])\n",
        "print(num_common)\n",
        "print(res)"
      ],
      "metadata": {
        "colab": {
          "base_uri": "https://localhost:8080/"
        },
        "id": "2W-lhbBTes7j",
        "outputId": "69c8e27b-7639-4a2e-e82e-dca688a17ce4"
      },
      "execution_count": null,
      "outputs": [
        {
          "output_type": "stream",
          "name": "stdout",
          "text": [
            "0\n",
            "[[0, 5], [0, 8], [0, 9], [0, 10], [0, 12], [0, 13], [0, 14], [1, 5], [1, 7], [1, 9], [1, 10], [1, 11], [1, 13], [2, 3], [2, 6], [2, 9], [2, 10], [2, 14], [3, 10], [3, 11], [3, 13], [3, 14], [4, 6], [4, 8], [4, 9], [4, 10], [4, 11], [4, 13], [4, 14], [5, 10], [5, 12], [5, 13], [6, 10], [6, 13], [7, 10], [8, 10], [8, 13], [9, 14], [10, 13]]\n"
          ]
        }
      ]
    },
    {
      "cell_type": "code",
      "source": [
        "d = {}\n",
        "for topic in topics_female:\n",
        "  for word in topic:\n",
        "    d[word] = d.get(word, 0) + 1\n",
        "print(d)"
      ],
      "metadata": {
        "colab": {
          "base_uri": "https://localhost:8080/"
        },
        "id": "ghiW0yiPRLaO",
        "outputId": "73c82ae6-a0ab-4c0e-cd00-b251a87e63f9"
      },
      "execution_count": null,
      "outputs": [
        {
          "output_type": "stream",
          "name": "stdout",
          "text": [
            "{'lady': 10, 'mother': 6, 'one': 12, 'poor': 4, 'thou': 1, 'good': 6, 'queen': 1, 'sir': 6, 'honor': 1, 'mona': 1, 'dorothy': 1, 'little': 12, 'dick': 2, 'lorraine': 1, 'see': 4, 'child': 1, 'stephen': 1, 'must': 7, 'aut': 1, 'young': 5, 'philip': 1, 'face': 2, 'vera': 1, 'know': 7, 'room': 2, 'come': 7, 'stella': 1, 'say': 4, 'madge': 1, 'old': 8, 'erica': 1, 'dear': 7, 'answered': 1, 'tell': 2, 'man': 6, 'eyes': 1, 'love': 2, 'upon': 6, 'like': 5, 'life': 4, 'heart': 1, 'yet': 1, 'seemed': 1, 'hand': 1, 'still': 1, 'voice': 1, 'long': 1, 'words': 1, 'woman': 2, 'away': 1, 'night': 1, 'alessandro': 1, 'father': 4, 'never': 8, 'ramona': 1, 'glen': 1, 'house': 2, 'denys': 1, 'nan': 1, 'day': 1, 'judith': 1, 'came': 3, 'phillis': 1, 'felipe': 1, 'eve': 1, 'muriel': 1, 'iris': 1, 'adam': 1, 'wentworth': 1, 'esse': 1, 'stasie': 1, 'fenella': 1, 'miss': 6, 'joan': 1, 'jerry': 1, 'arthur': 1, 'lord': 1, 'william': 1, 'harding': 1, 'think': 6, 'mrs': 6, 'thought': 3, 'well': 4, 'much': 6, 'quite': 1, 'yes': 1, 'time': 3, 'laura': 2, 'violet': 1, 'kate': 1, 'cyril': 1, 'returned': 1, 'roger': 1, 'garth': 1, 'barbara': 1, 'queene': 1, 'wife': 1, 'says': 1, 'nellie': 1, 'girl': 1, 'elsie': 1, 'shall': 1, 'charlie': 1, 'beta': 1, 'madame': 1, 'crown': 1, 'cloth': 1, 'paul': 1, 'jack': 1, 'always': 1, 'jeanne': 1, 'extra': 1, 'great': 2, 'monsieur': 1, 'world': 1, 'edith': 1, 'sydney': 1, 'hester': 1, 'aunt': 1, 'olive': 1, 'janet': 1, 'gillian': 1, 'bernard': 1, 'colonel': 1, 'sophy': 1, 'jessie': 1, 'george': 1, 'horn': 1, 'uncle': 1, 'lucy': 2, 'back': 1, 'head': 1, 'two': 1, 'might': 2, 'get': 1, 'way': 2, 'nothing': 1, 'made': 1, 'even': 1, 'make': 1, 'without': 1, 'mind': 1}\n"
          ]
        }
      ]
    },
    {
      "cell_type": "code",
      "source": [
        "import pandas as pd"
      ],
      "metadata": {
        "id": "ON3cuKs_Rv5f"
      },
      "execution_count": null,
      "outputs": []
    },
    {
      "cell_type": "code",
      "source": [
        "import numpy as np"
      ],
      "metadata": {
        "id": "XvChb-EJRyoH"
      },
      "execution_count": null,
      "outputs": []
    },
    {
      "cell_type": "code",
      "source": [
        "ordered_d = dict(reversed(sorted(d.items(), key=lambda x:x[1])))\n",
        "\n",
        "words = []\n",
        "num_occurrences = []\n",
        "for word in ordered_d:\n",
        "  words.append(word)\n",
        "  num_occurrences.append(d[word])"
      ],
      "metadata": {
        "id": "75xBgglmR8Lv"
      },
      "execution_count": null,
      "outputs": []
    },
    {
      "cell_type": "code",
      "source": [
        "# Sources:\n",
        "# Lima, D. (2020). Set the legend location of a pandas plot. Stack Overflow. https://stackoverflow.com/questions/59791884/set-the-legend-location-of-a-pandas-plot\n",
        "# farenorth. (2016). How to set ax.legend fontsize? [duplicate]. Stack Overflow. https://stackoverflow.com/questions/35652711/how-to-set-ax-legend-fontsize\n",
        "df = pd.DataFrame({'Word': words[:25], 'Number of Occurrences Across 15 Topics': num_occurrences[:25]})\n",
        "ax = df.plot.barh(x='Word', y='Number of Occurrences Across 15 Topics', rot=0)\n",
        "ax.legend(loc='upper right', prop=dict(size=10))\n",
        "ax.set_xticks(np.arange(0,15,1))"
      ],
      "metadata": {
        "colab": {
          "base_uri": "https://localhost:8080/",
          "height": 705
        },
        "id": "ffUcXcuFR0Mm",
        "outputId": "16be17fe-2829-4ba2-ed72-04b66beb937d"
      },
      "execution_count": null,
      "outputs": [
        {
          "output_type": "execute_result",
          "data": {
            "text/plain": [
              "[<matplotlib.axis.XTick at 0x7f5325fb81f0>,\n",
              " <matplotlib.axis.XTick at 0x7f5325fb8160>,\n",
              " <matplotlib.axis.XTick at 0x7f5325fb8670>,\n",
              " <matplotlib.axis.XTick at 0x7f5326324a60>,\n",
              " <matplotlib.axis.XTick at 0x7f53262fe470>,\n",
              " <matplotlib.axis.XTick at 0x7f5326325510>,\n",
              " <matplotlib.axis.XTick at 0x7f5326325ea0>,\n",
              " <matplotlib.axis.XTick at 0x7f5326326680>,\n",
              " <matplotlib.axis.XTick at 0x7f5326326e60>,\n",
              " <matplotlib.axis.XTick at 0x7f53262ff340>,\n",
              " <matplotlib.axis.XTick at 0x7f532609b1f0>,\n",
              " <matplotlib.axis.XTick at 0x7f53262db9a0>,\n",
              " <matplotlib.axis.XTick at 0x7f5326325810>,\n",
              " <matplotlib.axis.XTick at 0x7f5326327730>,\n",
              " <matplotlib.axis.XTick at 0x7f5326327f10>]"
            ]
          },
          "metadata": {},
          "execution_count": 64
        },
        {
          "output_type": "display_data",
          "data": {
            "text/plain": [
              "<Figure size 640x480 with 1 Axes>"
            ],
            "image/png": "[encoded data removed]"
          },
          "metadata": {}
        }
      ]
    },
    {
      "cell_type": "code",
      "source": [
        "d_2 = {}\n",
        "for topic in topics_male:\n",
        "  for word in topic:\n",
        "    d_2[word] = d_2.get(word, 0) + 1\n",
        "print(d_2)"
      ],
      "metadata": {
        "colab": {
          "base_uri": "https://localhost:8080/"
        },
        "id": "t9RbhgFzTMDZ",
        "outputId": "8869aea0-ab1e-49e6-8f56-99100d7ecbc5"
      },
      "execution_count": null,
      "outputs": [
        {
          "output_type": "stream",
          "name": "stdout",
          "text": [
            "{'one': 11, 'know': 5, 'think': 2, 'well': 7, 'much': 2, 'say': 4, 'good': 5, 'see': 8, 'little': 5, 'like': 12, 'must': 4, 'mrs': 4, 'time': 6, 'might': 3, 'lady': 2, 'made': 3, 'thought': 2, 'never': 4, 'miss': 2, 'way': 2, 'upon': 4, 'thou': 1, 'thee': 1, 'thy': 1, 'king': 1, 'man': 12, 'horn': 1, 'prince': 1, 'shall': 2, 'exclaimed': 1, 'lord': 5, 'father': 6, 'master': 1, 'house': 4, 'inglesant': 1, 'old': 9, 'money': 2, 'clare': 1, 'tom': 1, 'mark': 2, 'come': 4, 'iphis': 1, 'take': 1, 'mother': 2, 'lapham': 1, 'put': 1, 'sir': 6, 'colonel': 1, 'mary': 1, 'ethert': 1, 'ivy': 1, 'edward': 1, 'armitage': 1, 'bellarmin': 1, 'saxon': 1, 'hilda': 1, 'hubert': 1, 'bramton': 1, 'farquhar': 1, 'jesse': 1, 'isabel': 1, 'horse': 1, 'quite': 1, 'two': 4, 'madge': 1, 'ship': 1, 'sea': 1, 'captain': 1, 'though': 2, 'water': 1, 'boat': 1, 'deck': 1, 'men': 4, 'island': 1, 'wind': 1, 'came': 3, 'yolande': 1, 'says': 1, 'hugh': 1, 'adela': 1, 'robin': 1, 'dene': 1, 'marcella': 1, 'herbert': 1, 'gideon': 1, 'mutimer': 1, 'dick': 1, 'lynn': 1, 'acland': 1, 'let': 1, 'seemed': 1, 'hector': 1, 'knew': 1, 'poor': 2, 'rather': 1, 'girl': 1, 'latter': 1, 'many': 1, 'back': 2, 'face': 1, 'eyes': 2, 'went': 1, 'room': 2, 'away': 1, 'looked': 2, 'day': 2, 'night': 2, 'daisy': 1, 'ambrose': 1, 'alec': 1, 'judith': 1, 'faucit': 1, 'guy': 1, 'wharton': 1, 'jack': 1, 'lestrange': 1, 'robert': 1, 'fred': 1, 'new': 2, 'cloth': 1, 'crown': 1, 'svo': 1, 'extra': 1, 'illustrations': 1, 'post': 1, 'illustrated': 1, 'edition': 1, 'gilmore': 1, 'vols': 1, 'kit': 1, 'works': 1, 'boards': 1, 'sophy': 1, 'great': 2, 'young': 1, 'yet': 1, 'nothing': 1, 'work': 1, 'philip': 1, 'nellie': 1, 'argoll': 1, 'woman': 1, 'asked': 1, 'left': 1, 'first': 1, 'emily': 1, 'doctor': 2, 'life': 1, 'heart': 1, 'may': 1, 'love': 1, 'hand': 1, 'replied': 1, 'ever': 1, 'without': 1, 'every': 1, 'name': 1, 'yes': 1, 'cried': 1, 'george': 1, 'mabel': 1, 'dear': 1}\n"
          ]
        }
      ]
    },
    {
      "cell_type": "code",
      "source": [
        "ordered_d_2 = dict(reversed(sorted(d_2.items(), key=lambda x:x[1])))\n",
        "\n",
        "words_2 = []\n",
        "num_occurrences_2 = []\n",
        "for word in ordered_d_2:\n",
        "  words_2.append(word)\n",
        "  num_occurrences_2.append(d_2[word])"
      ],
      "metadata": {
        "id": "ijp1X3eMTZsw"
      },
      "execution_count": null,
      "outputs": []
    },
    {
      "cell_type": "code",
      "source": [
        "df = pd.DataFrame({'Word': words_2[:25], 'Number of Occurrences Across 15 Topics': num_occurrences_2[:25]})\n",
        "ax = df.plot.barh(x='Word', y='Number of Occurrences Across 15 Topics', rot=0)\n",
        "ax.legend(loc='upper right', prop=dict(size=10))\n",
        "ax.set_xticks(np.arange(0,15,1))"
      ],
      "metadata": {
        "colab": {
          "base_uri": "https://localhost:8080/",
          "height": 705
        },
        "id": "uU5N9SPRThjX",
        "outputId": "e34b1457-83d4-440f-9740-d65db9dd5258"
      },
      "execution_count": null,
      "outputs": [
        {
          "output_type": "execute_result",
          "data": {
            "text/plain": [
              "[<matplotlib.axis.XTick at 0x7f5326381f60>,\n",
              " <matplotlib.axis.XTick at 0x7f5326382a40>,\n",
              " <matplotlib.axis.XTick at 0x7f5326381120>,\n",
              " <matplotlib.axis.XTick at 0x7f5326239210>,\n",
              " <matplotlib.axis.XTick at 0x7f5326239cc0>,\n",
              " <matplotlib.axis.XTick at 0x7f532623a770>,\n",
              " <matplotlib.axis.XTick at 0x7f5326239750>,\n",
              " <matplotlib.axis.XTick at 0x7f532623af50>,\n",
              " <matplotlib.axis.XTick at 0x7f532623b730>,\n",
              " <matplotlib.axis.XTick at 0x7f532623bf10>,\n",
              " <matplotlib.axis.XTick at 0x7f532624c730>,\n",
              " <matplotlib.axis.XTick at 0x7f532623b490>,\n",
              " <matplotlib.axis.XTick at 0x7f532624c520>,\n",
              " <matplotlib.axis.XTick at 0x7f532624d2d0>,\n",
              " <matplotlib.axis.XTick at 0x7f532624da80>]"
            ]
          },
          "metadata": {},
          "execution_count": 66
        },
        {
          "output_type": "display_data",
          "data": {
            "text/plain": [
              "<Figure size 640x480 with 1 Axes>"
            ],
            "image/png": "[encoded data removed]"
          },
          "metadata": {}
        }
      ]
    },
    {
      "cell_type": "code",
      "source": [
        "print(little_mallet_wrapper.get_js_divergence_topics(7, 10, topic_weights_female))\n",
        "print(little_mallet_wrapper.get_js_divergence_topics(10, 11, topic_weights_female))\n",
        "print(little_mallet_wrapper.get_js_divergence_topics(7, 11, topic_weights_female))"
      ],
      "metadata": {
        "colab": {
          "base_uri": "https://localhost:8080/"
        },
        "id": "UoyPTMK_vBZ7",
        "outputId": "1a6ee03b-0621-4789-e74a-230a2e74fe87"
      },
      "execution_count": null,
      "outputs": [
        {
          "output_type": "stream",
          "name": "stdout",
          "text": [
            "0.6373851418291412\n",
            "0.6254547233810142\n",
            "0.584088657889758\n"
          ]
        }
      ]
    },
    {
      "cell_type": "code",
      "source": [
        "print(little_mallet_wrapper.get_js_divergence_topics(2, 12, topic_weights_male))"
      ],
      "metadata": {
        "colab": {
          "base_uri": "https://localhost:8080/"
        },
        "id": "_DX0AN_P7gGh",
        "outputId": "071f3e5e-157a-4bc3-dfdc-92ddb264730d"
      },
      "execution_count": null,
      "outputs": [
        {
          "output_type": "stream",
          "name": "stdout",
          "text": [
            "0.6231963498453682\n"
          ]
        }
      ]
    }
  ]
}